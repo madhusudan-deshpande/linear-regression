{
 "cells": [
  {
   "cell_type": "code",
   "execution_count": 1,
   "id": "3da15eb2",
   "metadata": {},
   "outputs": [],
   "source": [
    "import numpy as np\n",
    "import pandas as pd\n",
    "import random\n",
    "import matplotlib.pyplot as plt"
   ]
  },
  {
   "cell_type": "code",
   "execution_count": 2,
   "id": "ccd239ee",
   "metadata": {},
   "outputs": [],
   "source": [
    "# Simulate data\n",
    "\n",
    "x = np.arange(1,101)\n",
    "error = np.random.randn(100) * 10\n",
    "y = 6*x + error + 245"
   ]
  },
  {
   "cell_type": "code",
   "execution_count": 3,
   "id": "086483b3",
   "metadata": {},
   "outputs": [
    {
     "data": {
      "text/plain": [
       "<matplotlib.collections.PathCollection at 0x7fc8a022bee0>"
      ]
     },
     "execution_count": 3,
     "metadata": {},
     "output_type": "execute_result"
    },
    {
     "data": {
      "image/png": "[encoded data removed]",
      "text/plain": [
       "<Figure size 432x288 with 1 Axes>"
      ]
     },
     "metadata": {
      "needs_background": "light"
     },
     "output_type": "display_data"
    }
   ],
   "source": [
    "plt.scatter(x,y)"
   ]
  },
  {
   "cell_type": "code",
   "execution_count": 4,
   "id": "6008ec85",
   "metadata": {},
   "outputs": [
    {
     "name": "stdout",
     "output_type": "stream",
     "text": [
      "Coefficient: [[5.96754813]]\n",
      "Intercept: [246.40711965]\n",
      "Loss: 104.94013763186923\n"
     ]
    }
   ],
   "source": [
    "# Run Linear Regression from Sklearn for comparing results\n",
    "\n",
    "from sklearn.linear_model import LinearRegression\n",
    "from sklearn.metrics import mean_squared_error\n",
    "\n",
    "model = LinearRegression()\n",
    "model.fit(pd.DataFrame(x), pd.DataFrame(y))\n",
    "print('Coefficient:', model.coef_)\n",
    "print('Intercept:', model.intercept_)\n",
    "print('Loss:', mean_squared_error(y, model.predict(x.reshape(-1,1))))"
   ]
  },
  {
   "cell_type": "code",
   "execution_count": 5,
   "id": "0f1c8aa3",
   "metadata": {},
   "outputs": [],
   "source": [
    "class LinearRegression():\n",
    "    def __init__(self, loss_func = 'mse', optimizer = 'gd', alpha = 0.0001, epoch = None):\n",
    "        self.loss_func = loss_func\n",
    "        self.optimizer = optimizer\n",
    "        self.iter_ = 0\n",
    "        self.alpha = alpha\n",
    "        self.epochs = epoch\n",
    "        \n",
    "    def fit(self, X, Y):\n",
    "        \n",
    "        if isinstance(X, pd.DataFrame):\n",
    "            x = X.copy().values.reshape(X.shape[0],X.shape[1])\n",
    "            x = np.append(x, np.ones(X.shape[0]).reshape(-1,1),axis = 1)     #extra for bias\n",
    "        else:\n",
    "            x = X.copy().reshape(X.shape[0],X.shape[1])\n",
    "            x = np.append(x, np.ones(X.shape[0]).reshape(-1,1), axis = 1)     #extra for bias\n",
    "        if isinstance(Y, pd.DataFrame):\n",
    "            y = Y.copy().values.reshape(X.shape[0],1)\n",
    "        else:\n",
    "            y = Y.copy().reshape(X.shape[0],1)\n",
    "            \n",
    "        self.N = x.shape[0]\n",
    "        self.d = x.shape[1]\n",
    "        self.weights = np.array([0] * self.d).reshape(-1,1)                   \n",
    "        self.track_loss = []\n",
    "        delta_error = np.inf\n",
    "        \n",
    "        if self.optimizer == 'gd':  \n",
    "            while delta_error > 0.0001:\n",
    "                self.y_pred = np.dot(x, self.weights)                \n",
    "                self.loss = 1/self.N * sum(np.square(y - self.y_pred))[0]\n",
    "                self.track_loss.append(self.loss)\n",
    "                step = self.gd(x, y, i=None)\n",
    "                self.weights = self.weights - step\n",
    "                if len(self.track_loss) >= 2:\n",
    "                    delta_error = abs(self.track_loss[-2] - self.track_loss[-1])\n",
    "                self.iter_ += 1\n",
    "                    \n",
    "        if self.optimizer == 'sgd':\n",
    "            indices = np.arange(self.N)\n",
    "            for epoch in range(self.epochs):\n",
    "                np.random.shuffle(indices)\n",
    "                for i in indices:\n",
    "                    self.y_pred = np.dot(x, self.weights)\n",
    "                    self.loss = 1/self.N * sum(np.square(y - self.y_pred))[0]\n",
    "                    self.track_loss.append(self.loss)\n",
    "                    step = self.gd(x, y, i)\n",
    "                    self.weights = self.weights - step\n",
    "                    if len(self.track_loss) >= 2:\n",
    "                        delta_error = abs(self.track_loss[-2] - self.track_loss[-1])\n",
    "                    self.iter_ += 1 \n",
    "                        \n",
    "        self.intercept_ = self.weights[-1][0]\n",
    "        self.coef_ = self.weights[:-1][0]\n",
    "            \n",
    "    def gd(self, x, y, i):\n",
    "        if self.optimizer == 'gd':\n",
    "            return -(2/self.N * (y - self.y_pred) * x * self.alpha).sum(0).reshape(-1,1)   \n",
    "        if self.optimizer == 'sgd':\n",
    "            return -(2 * (y[i] - self.y_pred[i]).reshape(-1,1) * x[i].reshape(1,-1) * self.alpha).sum(0).reshape(-1,1)\n",
    "        \n",
    "    def predict(self, X):\n",
    "        y_pred = X * self.coef_ + self.intercept_   \n",
    "        return y_pred\n",
    "        "
   ]
  },
  {
   "cell_type": "code",
   "execution_count": 6,
   "id": "4a8c4095",
   "metadata": {},
   "outputs": [],
   "source": [
    "model = LinearRegression(optimizer='gd', alpha=0.00025)\n",
    "model.fit(pd.DataFrame(x),pd.DataFrame(y))"
   ]
  },
  {
   "cell_type": "code",
   "execution_count": 7,
   "id": "4f8b4eb3",
   "metadata": {},
   "outputs": [
    {
     "data": {
      "text/plain": [
       "[<matplotlib.lines.Line2D at 0x7fc8b4876fd0>]"
      ]
     },
     "execution_count": 7,
     "metadata": {},
     "output_type": "execute_result"
    },
    {
     "data": {
      "image/png": "[encoded data removed]",
      "text/plain": [
       "<Figure size 432x288 with 1 Axes>"
      ]
     },
     "metadata": {
      "needs_background": "light"
     },
     "output_type": "display_data"
    }
   ],
   "source": [
    "plt.plot(model.track_loss)"
   ]
  },
  {
   "cell_type": "code",
   "execution_count": 8,
   "id": "404ad798",
   "metadata": {},
   "outputs": [
    {
     "name": "stdout",
     "output_type": "stream",
     "text": [
      "Coefficients: [[5.98671226]]\n",
      "Intercept: [245.12321629]\n",
      "Loss: 105.34618878832437\n"
     ]
    }
   ],
   "source": [
    "print('Coefficients:', model.weights[:-1])\n",
    "print('Intercept:', model.weights[-1])\n",
    "print('Loss:', model.loss)"
   ]
  },
  {
   "cell_type": "code",
   "execution_count": 9,
   "id": "53f67900",
   "metadata": {},
   "outputs": [],
   "source": [
    "model = LinearRegression(optimizer='sgd', epoch=2000, alpha=0.00006)\n",
    "model.fit(pd.DataFrame(x),pd.DataFrame(y))"
   ]
  },
  {
   "cell_type": "code",
   "execution_count": 10,
   "id": "a2bbd5b9",
   "metadata": {},
   "outputs": [
    {
     "data": {
      "text/plain": [
       "[<matplotlib.lines.Line2D at 0x7fc8a0407040>]"
      ]
     },
     "execution_count": 10,
     "metadata": {},
     "output_type": "execute_result"
    },
    {
     "data": {
      "image/png": "[encoded data removed]",
      "text/plain": [
       "<Figure size 432x288 with 1 Axes>"
      ]
     },
     "metadata": {
      "needs_background": "light"
     },
     "output_type": "display_data"
    }
   ],
   "source": [
    "plt.plot(model.track_loss)"
   ]
  },
  {
   "cell_type": "code",
   "execution_count": 11,
   "id": "58a5581d",
   "metadata": {},
   "outputs": [
    {
     "name": "stdout",
     "output_type": "stream",
     "text": [
      "Coefficients: [[6.11312169]]\n",
      "Intercept: [245.75095331]\n",
      "Loss: 151.4962105415358\n"
     ]
    }
   ],
   "source": [
    "print('Coefficients:', model.weights[:-1])\n",
    "print('Intercept:', model.weights[-1])\n",
    "print('Loss:', model.loss)"
   ]
  }
 ],
 "metadata": {
  "kernelspec": {
   "display_name": "Python 3 (ipykernel)",
   "language": "python",
   "name": "python3"
  },
  "language_info": {
   "codemirror_mode": {
    "name": "ipython",
    "version": 3
   },
   "file_extension": ".py",
   "mimetype": "text/x-python",
   "name": "python",
   "nbconvert_exporter": "python",
   "pygments_lexer": "ipython3",
   "version": "3.9.7"
  }
 },
 "nbformat": 4,
 "nbformat_minor": 5
}
